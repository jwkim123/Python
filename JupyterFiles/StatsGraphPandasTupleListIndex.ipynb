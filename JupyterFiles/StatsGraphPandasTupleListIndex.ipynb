{
 "cells": [
  {
   "cell_type": "code",
   "execution_count": 1,
   "metadata": {},
   "outputs": [
    {
     "name": "stdout",
     "output_type": "stream",
     "text": [
      "나는 파이썬을 배웁니다. \n",
      "파이썬은 자바보다 훨씬 쉽습니다.\n"
     ]
    }
   ],
   "source": [
    "#이스케이프 문자 이해하기\n",
    "#\\ n 줄바꾸기\n",
    "print('나는 파이썬을 배웁니다. \\n파이썬은 자바보다 훨씬 쉽습니다.')"
   ]
  },
  {
   "cell_type": "code",
   "execution_count": 2,
   "metadata": {},
   "outputs": [
    {
     "name": "stdout",
     "output_type": "stream",
     "text": [
      "['a', 'b', 'c', 'd', 'e']\n",
      "<class 'list'>\n",
      "b\n"
     ]
    }
   ],
   "source": [
    "#리스트 이해하기 []\n",
    "k=['a','b','c','d','e']\n",
    "print(k)\n",
    "print(type(k)) #<class 'list'>\n",
    "print(k[1]) #b 출력"
   ]
  },
  {
   "cell_type": "code",
   "execution_count": 3,
   "metadata": {},
   "outputs": [
    {
     "name": "stdout",
     "output_type": "stream",
     "text": [
      "['뒷면' '앞면' '앞면' '뒷면' '뒷면' '앞면' '앞면' '앞면' '앞면' '뒷면']\n",
      "6\n"
     ]
    }
   ],
   "source": [
    "#동전을 10000번 던지고 그 중 10번을 표본출력해서 앞면이 나오는 횟수를 출력하시오\n",
    "import numpy as np\n",
    "coin=['앞면','뒷면']\n",
    "coin_10000=coin*10000\n",
    "sample=np.random.choice(coin_10000,10)\n",
    "print(sample)\n",
    "cnt=0\n",
    "for i in sample:\n",
    "    if i=='앞면':\n",
    "        cnt+=1\n",
    "print(cnt)"
   ]
  },
  {
   "cell_type": "code",
   "execution_count": 4,
   "metadata": {},
   "outputs": [
    {
     "name": "stdout",
     "output_type": "stream",
     "text": [
      "<class 'list'>\n",
      "1\n",
      "[7, 2, 3, 4, 5]\n"
     ]
    }
   ],
   "source": [
    "#리스트에서 특정 요소를 변경하는 방법\n",
    "a=[1,2,3,4,5]\n",
    "print( type(a) ) #<class 'list'>\n",
    "print( a[0] ) #1\n",
    "a[0]=7  #a 리스트의 0번째 요소를 7로 변경한다.\n",
    "print(a) #[7,2,3,4,5] a리스트의 0번쨰 요소가 7로 변경되었습니다"
   ]
  },
  {
   "cell_type": "code",
   "execution_count": 5,
   "metadata": {},
   "outputs": [
    {
     "name": "stdout",
     "output_type": "stream",
     "text": [
      "1\n"
     ]
    },
    {
     "ename": "TypeError",
     "evalue": "'tuple' object does not support item assignment",
     "output_type": "error",
     "traceback": [
      "\u001b[1;31m---------------------------------------------------------------------------\u001b[0m",
      "\u001b[1;31mTypeError\u001b[0m                                 Traceback (most recent call last)",
      "\u001b[1;32m<ipython-input-5-dddbb7d8cc4a>\u001b[0m in \u001b[0;36m<module>\u001b[1;34m\u001b[0m\n\u001b[0;32m      2\u001b[0m \u001b[0mb\u001b[0m\u001b[1;33m=\u001b[0m\u001b[1;33m(\u001b[0m\u001b[1;36m1\u001b[0m\u001b[1;33m,\u001b[0m\u001b[1;36m2\u001b[0m\u001b[1;33m,\u001b[0m\u001b[1;36m3\u001b[0m\u001b[1;33m,\u001b[0m\u001b[1;36m4\u001b[0m\u001b[1;33m,\u001b[0m\u001b[1;36m5\u001b[0m\u001b[1;33m)\u001b[0m\u001b[1;33m\u001b[0m\u001b[1;33m\u001b[0m\u001b[0m\n\u001b[0;32m      3\u001b[0m \u001b[0mprint\u001b[0m\u001b[1;33m(\u001b[0m\u001b[0mb\u001b[0m\u001b[1;33m[\u001b[0m\u001b[1;36m0\u001b[0m\u001b[1;33m]\u001b[0m\u001b[1;33m)\u001b[0m\u001b[1;33m\u001b[0m\u001b[1;33m\u001b[0m\u001b[0m\n\u001b[1;32m----> 4\u001b[1;33m \u001b[0mb\u001b[0m\u001b[1;33m[\u001b[0m\u001b[1;36m0\u001b[0m\u001b[1;33m]\u001b[0m\u001b[1;33m=\u001b[0m\u001b[1;36m7\u001b[0m\u001b[1;33m\u001b[0m\u001b[1;33m\u001b[0m\u001b[0m\n\u001b[0m",
      "\u001b[1;31mTypeError\u001b[0m: 'tuple' object does not support item assignment"
     ]
    }
   ],
   "source": [
    "#튜플은 데이터를 변경할 수 없습니다.\n",
    "b=(1,2,3,4,5)\n",
    "print(b[0])\n",
    "b[0]=7"
   ]
  },
  {
   "cell_type": "code",
   "execution_count": 6,
   "metadata": {},
   "outputs": [
    {
     "name": "stdout",
     "output_type": "stream",
     "text": [
      "0.01\n",
      "0.02\n",
      "0.03\n",
      "0.04\n",
      "0.05\n"
     ]
    }
   ],
   "source": [
    "#Q.아래의 숫자 데이터들을 튜플로 생성하고 튜플 변수 이름은 POINT로 하고 튜플의 모든 요소를 출력하시오\n",
    "point=(0.01,0.02,0.03,0.04,0.05)\n",
    "for i in point:\n",
    "    print(i)"
   ]
  },
  {
   "cell_type": "code",
   "execution_count": 7,
   "metadata": {},
   "outputs": [
    {
     "name": "stdout",
     "output_type": "stream",
     "text": [
      "{'apple': '사과', 'banana': '바나나', 'peach': '복숭아', 'pear': '배'}\n",
      "<class 'dict'>\n",
      "dict_keys(['apple', 'banana', 'peach', 'pear'])\n",
      "dict_values(['사과', '바나나', '복숭아', '배'])\n"
     ]
    }
   ],
   "source": [
    "#사전 이해하기\n",
    "a = {'apple':'사과', 'banana':'바나나', 'peach':'복숭아', 'pear':'배'}\n",
    "print(a)\n",
    "print(type(a))\n",
    "print(a.keys())\n",
    "print(a.values())"
   ]
  },
  {
   "cell_type": "code",
   "execution_count": 8,
   "metadata": {},
   "outputs": [
    {
     "name": "stdout",
     "output_type": "stream",
     "text": [
      "{'apple': '사과', 'pear': '배', 'grape': '포도'}\n"
     ]
    }
   ],
   "source": [
    "#사전이해하기-2 추가하기\n",
    "b={}\n",
    "b['apple']='사과'\n",
    "b['pear']='배'\n",
    "b['grape']='포도'\n",
    "print(b)"
   ]
  },
  {
   "cell_type": "code",
   "execution_count": 9,
   "metadata": {},
   "outputs": [
    {
     "name": "stdout",
     "output_type": "stream",
     "text": [
      "{'사과': 'apple', '배': 'pear', '포도': 'grape', '복숭아,': 'peach', '바나나': 'banana'}\n"
     ]
    }
   ],
   "source": [
    "#아래의 두개의 리스트를 각각 만들고 fruit라는 딕셔너리를 생성하시오\n",
    "a=['사과','배','포도','복숭아,','바나나']\n",
    "b=['apple','pear','grape','peach','banana']\n",
    "fruit={}\n",
    "for i,k in zip(a,b):\n",
    "    fruit[i]=k\n",
    "print(fruit)"
   ]
  },
  {
   "cell_type": "code",
   "execution_count": 10,
   "metadata": {},
   "outputs": [
    {
     "name": "stdout",
     "output_type": "stream",
     "text": [
      "scott\n",
      "scott\n"
     ]
    }
   ],
   "source": [
    "#%%\n",
    "#소문자로 구현하기\n",
    "a='SCOTT'\n",
    "print(a.lower())\n",
    "#or\n",
    "print('SCOTT'.lower())"
   ]
  },
  {
   "cell_type": "code",
   "execution_count": 11,
   "metadata": {},
   "outputs": [
    {
     "name": "stdout",
     "output_type": "stream",
     "text": [
      "SCOTT\n",
      "SCOTT\n"
     ]
    }
   ],
   "source": [
    "#%%\n",
    "#Q.아래의 문자열을 대문자로 출력하시오\n",
    "a='scott'\n",
    "print(a.upper())\n",
    "print('scott'.upper())"
   ]
  },
  {
   "cell_type": "code",
   "execution_count": 12,
   "metadata": {},
   "outputs": [
    {
     "name": "stdout",
     "output_type": "stream",
     "text": [
      "S\n"
     ]
    }
   ],
   "source": [
    "#'scott'에서 첫번째 철자만 출력하는데 대문자로 출력하시오\n",
    "a='scott'\n",
    "print(a[0].upper())"
   ]
  },
  {
   "cell_type": "code",
   "execution_count": 13,
   "metadata": {},
   "outputs": [
    {
     "name": "stdout",
     "output_type": "stream",
     "text": [
      "cott\n"
     ]
    }
   ],
   "source": [
    "#Q.아래의 문자열 변수에서 cott만 출력하시오\n",
    "a='scott'\n",
    "print(a[1:])"
   ]
  },
  {
   "cell_type": "code",
   "execution_count": 14,
   "metadata": {},
   "outputs": [
    {
     "name": "stdout",
     "output_type": "stream",
     "text": [
      "Scott\n"
     ]
    }
   ],
   "source": [
    "#Q.첫번째 철자 대문자 나머지는 소문자로 출력되게 하는 함수를 생성하시오\n",
    "def initcap(val):\n",
    "    return val[0].upper()+val[1:].lower()\n",
    "print(initcap('scott'))"
   ]
  },
  {
   "cell_type": "code",
   "execution_count": 15,
   "metadata": {},
   "outputs": [
    {
     "name": "stdout",
     "output_type": "stream",
     "text": [
      "king\n",
      "blake\n",
      "clark\n",
      "jones\n",
      "martin\n",
      "allen\n",
      "turner\n",
      "james\n",
      "ward\n",
      "ford\n",
      "smith\n",
      "scott\n",
      "adams\n",
      "miller\n"
     ]
    }
   ],
   "source": [
    "#다음의 SQL을 파이썬으로 구현하시오 select lower(ename) from emp;\n",
    "import pandas as pd\n",
    "emp=pd.read_csv(\"d:\\\\data\\\\emp3.csv\")\n",
    "for i in emp['ename']:\n",
    "    print(i.lower())"
   ]
  },
  {
   "cell_type": "code",
   "execution_count": 16,
   "metadata": {},
   "outputs": [
    {
     "name": "stdout",
     "output_type": "stream",
     "text": [
      "king president\n",
      "blake manager\n",
      "clark manager\n",
      "jones manager\n",
      "martin salesman\n",
      "allen salesman\n",
      "turner salesman\n",
      "james clerk\n",
      "ward salesman\n",
      "ford analyst\n",
      "smith clerk\n",
      "scott analyst\n",
      "adams clerk\n",
      "miller clerk\n"
     ]
    }
   ],
   "source": [
    "#Q.아래의 SQL을 파이썬으로 구현하시오\n",
    "#select lower(ename), lower(job) from emp;\n",
    "import pandas as pd\n",
    "emp=pd.read_csv(\"d:\\\\data\\\\emp3.csv\")\n",
    "for i,k in zip(emp['ename'],emp['job']):\n",
    "    print(i.lower(),k.lower())"
   ]
  },
  {
   "cell_type": "code",
   "execution_count": null,
   "metadata": {},
   "outputs": [],
   "source": [
    "#함수 생성하는 법:\n",
    "def add_number(n1,n2):\n",
    "    result=n1+n2 #n1에 입력된 값과 n2에 입력된 값을 더해서 result에 입력한다.\n",
    "    return result #result에 입력된 값을 출력한다.\n",
    "print(add_numbers(1,2))\n",
    "\n",
    "def 함수이름(매개변수1):\n",
    "실행문\n",
    "return 출력값이 있는 변수명"
   ]
  },
  {
   "cell_type": "code",
   "execution_count": 19,
   "metadata": {},
   "outputs": [
    {
     "name": "stdout",
     "output_type": "stream",
     "text": [
      "55\n"
     ]
    }
   ],
   "source": [
    "#Q.함수를 생성하는데 아래와 같이 숫자를 입력하고 함수를 실행하면\n",
    "#해당숫자까지 1부터 다 더한 값이 출력되게 하시오 print(all_add(10))\n",
    "def all_add(n1):\n",
    "    cnt=0\n",
    "    for i in range(1,n1+1):\n",
    "        cnt=cnt+i\n",
    "    return cnt\n",
    "print(all_add(10))"
   ]
  },
  {
   "cell_type": "code",
   "execution_count": 20,
   "metadata": {},
   "outputs": [
    {
     "name": "stdout",
     "output_type": "stream",
     "text": [
      "파이썬  자바\n",
      "파이썬 최고\n"
     ]
    }
   ],
   "source": [
    "#인자 이해하기\n",
    "def add_text1(t1,t2):\n",
    "    return t1+ '  ' + t2\n",
    "print(add_text1('파이썬','자바')) #파이썬 자바\n",
    "\n",
    "#매개변수에 아무것도 입력하지 않고 실행하면 기본값이 실행되게하는 함수\n",
    "def add_text2(t1,t2='최고'):\n",
    "    return t1+' '+t2\n",
    "print(add_text2('파이썬'))\n",
    "#t2에 값을 아무것도 안넣었더니 기본값으로 지정한 최고가 출력되었습니다."
   ]
  },
  {
   "cell_type": "code",
   "execution_count": 21,
   "metadata": {},
   "outputs": [
    {
     "name": "stdout",
     "output_type": "stream",
     "text": [
      "지역변수\n",
      "78.53981633974483\n",
      "19.634954084936208\n"
     ]
    }
   ],
   "source": [
    "#전역변수 vs. 지역변수\n",
    "strdata='전역변수' #func1 함수 외부에 있는 변수(텀블러)\n",
    "def func1( ):\n",
    "    strdata2='지역변수' #func1 함수 내부에 있는 변수: 스타벅스 머그컵\n",
    "    return strdata2\n",
    "print(func1( ) )\n",
    "#전역변수 사용\n",
    "pi=3.141592653589793\n",
    "def cycle_func1(num1): #원의 넓이를 구하는 함수\n",
    "    global pi #전역변수 pi를 함수내부로 가져올 수 있습니다. \n",
    "            #global 이라는 키워드를 앞에 쓰면 됩니다.\n",
    "    return pi*num1*num1\n",
    "\n",
    "def cycle_func2(num1): #원의 1/4인 부채꼴의 넓이를 구하는 함수\n",
    "    global pi\n",
    "    return 1/4*pi*num1*num1\n",
    "print(cycle_func1(5))\n",
    "print(cycle_func2(5))"
   ]
  },
  {
   "cell_type": "code",
   "execution_count": 22,
   "metadata": {},
   "outputs": [
    {
     "name": "stdout",
     "output_type": "stream",
     "text": [
      "9\n"
     ]
    }
   ],
   "source": [
    "#Q.abs함수를 사용하지 말고 if문을 이용해서 절대값을 출력하는 my_abs함수를 생성하시오\n",
    "def my_abs(num1):\n",
    "    if num1<0:\n",
    "        result=-num1\n",
    "        return result\n",
    "    else:\n",
    "        return num1\n",
    "print(my_abs(-9))"
   ]
  },
  {
   "cell_type": "code",
   "execution_count": 23,
   "metadata": {},
   "outputs": [
    {
     "name": "stdout",
     "output_type": "stream",
     "text": [
      "[2.24941020e-03 2.25157161e-03 2.25373484e-03 ... 7.83908704e-05\n",
      " 7.82893221e-05 7.81878965e-05]\n"
     ]
    }
   ],
   "source": [
    "#Q.서울시 초등학생 백만명의 키를 모집단을 구성하는데 평균키가 148.5이고 \n",
    "#표준편차가 30인 모집단을 만들고 100명을 표본으로 추출하여 100명의 평균키를\n",
    "#비어있는 리스트 a에 입력하는 작업을 10000번 수행하여 a리스트에 10000개의\n",
    "#표본의 평균키가 입력되게하시오\n",
    "import numpy as np\n",
    "from scipy.stats import norm #scipy의stats 패키지로부터 norm이라는 모듈을 import해랴ㅏ\n",
    "a=[]\n",
    "avg=148.5\n",
    "std=30\n",
    "N=1000000\n",
    "height=np.random.randn(N)*std+avg\n",
    "for i in range(1,10001):\n",
    "    a.append(np.random.choice(height,100).mean())\n",
    "x=np.arange(140,160,0.001) #140~160까지 0.001간격으로 숫자 생성\n",
    "y=norm.pdf(x,np.mean(a), np.std(a))\n",
    "#초등학생 키의 표본평균값들에 대한 확률 밀도함수값이 출력됩니다.\n",
    "print(y)"
   ]
  },
  {
   "cell_type": "code",
   "execution_count": 24,
   "metadata": {},
   "outputs": [
    {
     "data": {
      "text/plain": [
       "<function matplotlib.pyplot.show(close=None, block=None)>"
      ]
     },
     "execution_count": 24,
     "metadata": {},
     "output_type": "execute_result"
    },
    {
     "data": {
      "image/png": "[encoded data removed]",
      "text/plain": [
       "<Figure size 432x288 with 1 Axes>"
      ]
     },
     "metadata": {
      "needs_background": "light"
     },
     "output_type": "display_data"
    }
   ],
   "source": [
    "#Q.데이터 시각화 전문 모듈인 matplotlib를 임포트하여 \n",
    "#위의 표본평균값 10000개의 데이터에 대한 확률 밀도함수 값으로 정규분포 그래프를 그리시오\n",
    "import matplotlib.pyplot as plt #matplotlib모듈안에 pylopt라는 함수를 임포트하는데 별칭은 plt\n",
    "import numpy as np\n",
    "from scipy.stats import norm \n",
    "a=[]\n",
    "avg=148.5\n",
    "std=30\n",
    "N=1000000\n",
    "height=np.random.randn(N)*std+avg\n",
    "for i in range(1,10001):\n",
    "    a.append(np.random.choice(height,100).mean())\n",
    "x=np.arange(140,160,0.001) \n",
    "y=norm.pdf(x,np.mean(a), np.std(a))\n",
    "plt.plot(x,y,color='blue') #x축은 키, y는 확률밀도함수\n",
    "plt.show"
   ]
  },
  {
   "cell_type": "code",
   "execution_count": 25,
   "metadata": {},
   "outputs": [
    {
     "data": {
      "text/plain": [
       "<function matplotlib.pyplot.show(close=None, block=None)>"
      ]
     },
     "execution_count": 25,
     "metadata": {},
     "output_type": "execute_result"
    },
    {
     "data": {
      "image/png": "[encoded data removed]",
      "text/plain": [
       "<Figure size 432x288 with 1 Axes>"
      ]
     },
     "metadata": {
      "needs_background": "light"
     },
     "output_type": "display_data"
    }
   ],
   "source": [
    "#Q.위에서 그린 확률밀도함수 그래프의 색을 변경하시오\n",
    "import matplotlib.pyplot as plt \n",
    "import numpy as np\n",
    "from scipy.stats import norm \n",
    "a=[]\n",
    "avg=148.5\n",
    "std=30\n",
    "N=1000000\n",
    "height=np.random.randn(N)*std+avg\n",
    "for i in range(1,10001):\n",
    "    a.append(np.random.choice(height,100).mean())\n",
    "x=np.arange(140,160,0.001) \n",
    "y=norm.pdf(x,np.mean(a), np.std(a))\n",
    "plt.plot(x,y,color='magenta') \n",
    "plt.fill_between(x,y,interpolate=True,color='pink',alpha=0.7) #alpha=투명도\n",
    "plt.show"
   ]
  }
 ],
 "metadata": {
  "kernelspec": {
   "display_name": "Python 3",
   "language": "python",
   "name": "python3"
  },
  "language_info": {
   "codemirror_mode": {
    "name": "ipython",
    "version": 3
   },
   "file_extension": ".py",
   "mimetype": "text/x-python",
   "name": "python",
   "nbconvert_exporter": "python",
   "pygments_lexer": "ipython3",
   "version": "3.7.9"
  }
 },
 "nbformat": 4,
 "nbformat_minor": 4
}
